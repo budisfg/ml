{
 "metadata": {
  "language_info": {
   "codemirror_mode": {
    "name": "ipython",
    "version": 3
   },
   "file_extension": ".py",
   "mimetype": "text/x-python",
   "name": "python",
   "nbconvert_exporter": "python",
   "pygments_lexer": "ipython3",
   "version": "3.7.6-final"
  },
  "orig_nbformat": 2,
  "kernelspec": {
   "name": "python3",
   "display_name": "Python 3.7.6 64-bit ('tf24': venv)",
   "metadata": {
    "interpreter": {
     "hash": "08d7120df4aab065e48ff505be9e1052c7300792389add18796be9d283358295"
    }
   }
  }
 },
 "nbformat": 4,
 "nbformat_minor": 2,
 "cells": [
  {
   "cell_type": "code",
   "execution_count": 2,
   "metadata": {},
   "outputs": [],
   "source": [
    "import numpy as np\n",
    "import tensorflow as tf\n",
    "from tensorflow import keras"
   ]
  },
  {
   "cell_type": "code",
   "execution_count": 6,
   "metadata": {},
   "outputs": [],
   "source": [
    "data_folder = \"F:/data-extract/ant-bee/train\""
   ]
  },
  {
   "cell_type": "code",
   "execution_count": 8,
   "metadata": {},
   "outputs": [
    {
     "output_type": "stream",
     "name": "stdout",
     "text": [
      "Found 245 files belonging to 2 classes.\n"
     ]
    }
   ],
   "source": [
    "# Create a dataset.\n",
    "dataset_train = keras.preprocessing.image_dataset_from_directory(data_folder, batch_size=32, image_size=(244, 244))"
   ]
  },
  {
   "cell_type": "code",
   "execution_count": 11,
   "metadata": {},
   "outputs": [
    {
     "output_type": "execute_result",
     "data": {
      "text/plain": [
       "8"
      ]
     },
     "metadata": {},
     "execution_count": 11
    }
   ],
   "source": [
    "len(dataset_train)"
   ]
  },
  {
   "cell_type": "code",
   "execution_count": 13,
   "metadata": {},
   "outputs": [
    {
     "output_type": "execute_result",
     "data": {
      "text/plain": [
       "<BatchDataset shapes: ((None, 244, 244, 3), (None,)), types: (tf.float32, tf.int32)>"
      ]
     },
     "metadata": {},
     "execution_count": 13
    }
   ],
   "source": [
    "dataset_train"
   ]
  },
  {
   "cell_type": "code",
   "execution_count": 19,
   "metadata": {
    "tags": []
   },
   "outputs": [
    {
     "output_type": "stream",
     "name": "stdout",
     "text": [
      "tf.Tensor([1 0 0 0 1 1 1 0 0 0 1 1 1 0 0 1 1 0 0 1 1 0 0 0 0 0 0 1 1 1 1 1], shape=(32,), dtype=int32)\ntf.Tensor([0 0 1 1 0 0 1 1 0 1 1 0 0 0 0 0 0 0 1 1 0 1 1 1 1 1 1 1 1 1 0 0], shape=(32,), dtype=int32)\ntf.Tensor([0 1 1 1 0 1 1 0 1 1 1 1 0 1 1 1 0 0 1 0 1 1 1 1 1 1 0 0 0 1 1 1], shape=(32,), dtype=int32)\ntf.Tensor([0 0 0 1 1 1 0 0 0 0 0 0 0 1 1 0 1 0 0 0 1 1 1 1 1 1 0 1 0 1 1 0], shape=(32,), dtype=int32)\ntf.Tensor([0 1 0 0 0 1 0 1 0 1 1 1 0 0 0 1 0 0 0 1 0 0 1 1 0 0 0 0 0 0 0 0], shape=(32,), dtype=int32)\ntf.Tensor([0 0 0 1 0 1 0 0 0 1 1 1 0 0 0 1 0 1 0 1 1 1 1 1 0 0 0 0 1 0 1 0], shape=(32,), dtype=int32)\ntf.Tensor([1 0 1 0 0 0 1 0 1 0 1 1 1 0 0 1 0 0 0 1 0 1 1 1 1 0 1 1 0 1 1 0], shape=(32,), dtype=int32)\ntf.Tensor([0 1 1 0 0 1 1 1 1 1 0 1 0 0 0 0 0 0 1 0 1], shape=(21,), dtype=int32)\n"
     ]
    }
   ],
   "source": [
    "for data, labels in dataset_train:\n",
    "   #print(data.shape)  # (64, 200, 200, 3)\n",
    "   #print(data.dtype)  # float32\n",
    "   #print(labels.shape)  # (64,)\n",
    "   #print(labels.dtype)  # int32\n",
    "   print(labels)"
   ]
  },
  {
   "cell_type": "code",
   "execution_count": null,
   "metadata": {},
   "outputs": [],
   "source": []
  }
 ]
}