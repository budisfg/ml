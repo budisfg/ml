{
 "metadata": {
  "language_info": {
   "codemirror_mode": {
    "name": "ipython",
    "version": 3
   },
   "file_extension": ".py",
   "mimetype": "text/x-python",
   "name": "python",
   "nbconvert_exporter": "python",
   "pygments_lexer": "ipython3",
   "version": "3.7.8-final"
  },
  "orig_nbformat": 2,
  "kernelspec": {
   "name": "python3",
   "display_name": "Python 3.7.8 64-bit",
   "metadata": {
    "interpreter": {
     "hash": "08d7120df4aab065e48ff505be9e1052c7300792389add18796be9d283358295"
    }
   }
  }
 },
 "nbformat": 4,
 "nbformat_minor": 2,
 "cells": [
  {
   "source": [
    "dataset with dataframe"
   ],
   "cell_type": "markdown",
   "metadata": {}
  },
  {
   "cell_type": "code",
   "execution_count": 1,
   "metadata": {},
   "outputs": [],
   "source": [
    "import os\n",
    "import numpy as np\n",
    "import pandas as pd\n",
    "from sklearn.model_selection import train_test_split\n",
    "\n",
    "import tensorflow as tf\n",
    "from tensorflow import keras\n",
    "from tensorflow.keras.preprocessing.image import ImageDataGenerator"
   ]
  },
  {
   "cell_type": "code",
   "execution_count": 2,
   "metadata": {},
   "outputs": [],
   "source": [
    "data_folder = \"F:/data-extract/dogs-vs-cats/\""
   ]
  },
  {
   "cell_type": "code",
   "execution_count": 3,
   "metadata": {},
   "outputs": [],
   "source": [
    "f = open(os.path.join(data_folder, \"dogcat.csv\"), \"w\")"
   ]
  },
  {
   "cell_type": "code",
   "execution_count": 4,
   "metadata": {},
   "outputs": [
    {
     "output_type": "execute_result",
     "data": {
      "text/plain": [
       "15"
      ]
     },
     "metadata": {},
     "execution_count": 4
    }
   ],
   "source": [
    "f.write(\"filename,label\\n\")"
   ]
  },
  {
   "cell_type": "code",
   "execution_count": 5,
   "metadata": {
    "tags": []
   },
   "outputs": [],
   "source": [
    "#get cat\n",
    "cat_folder = \"train/cat/\"\n",
    "for entry in os.listdir(data_folder + cat_folder):\n",
    "    if os.path.isfile(os.path.join(data_folder + cat_folder, entry)):\n",
    "        f.write(cat_folder + entry + \",0\\n\")"
   ]
  },
  {
   "cell_type": "code",
   "execution_count": 6,
   "metadata": {},
   "outputs": [],
   "source": [
    "#get dog\n",
    "dog_folder = \"train/dog/\"\n",
    "for entry in os.listdir(data_folder + dog_folder):\n",
    "    if os.path.isfile(os.path.join(data_folder + dog_folder, entry)):\n",
    "        f.write(dog_folder + entry + \",1\\n\")"
   ]
  },
  {
   "cell_type": "code",
   "execution_count": 7,
   "metadata": {},
   "outputs": [],
   "source": [
    "f.close()"
   ]
  },
  {
   "cell_type": "code",
   "execution_count": 8,
   "metadata": {},
   "outputs": [],
   "source": [
    "df = pd.read_csv(data_folder + \"dogcat.csv\")\n",
    "df['label'] = df['label'].astype(str)"
   ]
  },
  {
   "cell_type": "code",
   "execution_count": 9,
   "metadata": {},
   "outputs": [
    {
     "output_type": "execute_result",
     "data": {
      "text/plain": [
       "                     filename label\n",
       "0         train/cat/cat.0.jpg     0\n",
       "1         train/cat/cat.1.jpg     0\n",
       "2        train/cat/cat.10.jpg     0\n",
       "3       train/cat/cat.100.jpg     0\n",
       "4      train/cat/cat.1000.jpg     0\n",
       "...                       ...   ...\n",
       "24986  train/dog/dog.9995.jpg     1\n",
       "24987  train/dog/dog.9996.jpg     1\n",
       "24988  train/dog/dog.9997.jpg     1\n",
       "24989  train/dog/dog.9998.jpg     1\n",
       "24990  train/dog/dog.9999.jpg     1\n",
       "\n",
       "[24991 rows x 2 columns]"
      ],
      "text/html": "<div>\n<style scoped>\n    .dataframe tbody tr th:only-of-type {\n        vertical-align: middle;\n    }\n\n    .dataframe tbody tr th {\n        vertical-align: top;\n    }\n\n    .dataframe thead th {\n        text-align: right;\n    }\n</style>\n<table border=\"1\" class=\"dataframe\">\n  <thead>\n    <tr style=\"text-align: right;\">\n      <th></th>\n      <th>filename</th>\n      <th>label</th>\n    </tr>\n  </thead>\n  <tbody>\n    <tr>\n      <th>0</th>\n      <td>train/cat/cat.0.jpg</td>\n      <td>0</td>\n    </tr>\n    <tr>\n      <th>1</th>\n      <td>train/cat/cat.1.jpg</td>\n      <td>0</td>\n    </tr>\n    <tr>\n      <th>2</th>\n      <td>train/cat/cat.10.jpg</td>\n      <td>0</td>\n    </tr>\n    <tr>\n      <th>3</th>\n      <td>train/cat/cat.100.jpg</td>\n      <td>0</td>\n    </tr>\n    <tr>\n      <th>4</th>\n      <td>train/cat/cat.1000.jpg</td>\n      <td>0</td>\n    </tr>\n    <tr>\n      <th>...</th>\n      <td>...</td>\n      <td>...</td>\n    </tr>\n    <tr>\n      <th>24986</th>\n      <td>train/dog/dog.9995.jpg</td>\n      <td>1</td>\n    </tr>\n    <tr>\n      <th>24987</th>\n      <td>train/dog/dog.9996.jpg</td>\n      <td>1</td>\n    </tr>\n    <tr>\n      <th>24988</th>\n      <td>train/dog/dog.9997.jpg</td>\n      <td>1</td>\n    </tr>\n    <tr>\n      <th>24989</th>\n      <td>train/dog/dog.9998.jpg</td>\n      <td>1</td>\n    </tr>\n    <tr>\n      <th>24990</th>\n      <td>train/dog/dog.9999.jpg</td>\n      <td>1</td>\n    </tr>\n  </tbody>\n</table>\n<p>24991 rows × 2 columns</p>\n</div>"
     },
     "metadata": {},
     "execution_count": 9
    }
   ],
   "source": [
    "df"
   ]
  },
  {
   "cell_type": "code",
   "execution_count": 10,
   "metadata": {},
   "outputs": [],
   "source": [
    "traindf, valdf = train_test_split(df, test_size=0.2)"
   ]
  },
  {
   "cell_type": "code",
   "execution_count": 11,
   "metadata": {},
   "outputs": [
    {
     "output_type": "stream",
     "name": "stdout",
     "text": [
      "Found 19992 validated image filenames belonging to 2 classes.\n",
      "Found 4999 validated image filenames belonging to 2 classes.\n"
     ]
    }
   ],
   "source": [
    "catdogDG = ImageDataGenerator(rescale=1./255)\n",
    "\n",
    "train_ds = catdogDG.flow_from_dataframe(\n",
    "    dataframe=traindf,\n",
    "    directory=data_folder,\n",
    "    x_col=\"filename\",\n",
    "    y_col=\"label\",\n",
    "    target_size=(96, 96),\n",
    "    classes=None,\n",
    "    class_mode=\"binary\",\n",
    "    batch_size=32,\n",
    "    shuffle=True,\n",
    "    seed=51,\n",
    "    interpolation=\"nearest\"\n",
    ")\n",
    "\n",
    "val_ds = catdogDG.flow_from_dataframe(\n",
    "    dataframe=valdf,\n",
    "    directory=data_folder,\n",
    "    x_col=\"filename\",\n",
    "    y_col=\"label\",\n",
    "    target_size=(96, 96),\n",
    "    classes=None,\n",
    "    class_mode=\"binary\",\n",
    "    batch_size=32,\n",
    "    shuffle=True,\n",
    "    seed=51,\n",
    "    interpolation=\"nearest\"\n",
    ")"
   ]
  },
  {
   "cell_type": "code",
   "execution_count": null,
   "metadata": {},
   "outputs": [],
   "source": []
  }
 ]
}